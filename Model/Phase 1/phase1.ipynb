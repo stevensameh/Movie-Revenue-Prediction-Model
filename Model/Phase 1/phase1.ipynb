{
 "cells": [
  {
   "cell_type": "markdown",
   "source": [
    "Phase 1"
   ],
   "metadata": {
    "collapsed": false
   }
  },
  {
   "cell_type": "code",
   "execution_count": null,
   "metadata": {
    "collapsed": true
   },
   "outputs": [],
   "source": [
    "import pandas as pd"
   ]
  },
  {
   "cell_type": "markdown",
   "source": [
    "Joining directors dataset into the movies (main) dataset"
   ],
   "metadata": {
    "collapsed": false
   }
  },
  {
   "cell_type": "code",
   "execution_count": null,
   "outputs": [],
   "source": [
    "# reading csv files\n",
    "movies_base = pd.read_csv('datasets/movies-revenue.csv')\n",
    "movies_director = pd.read_csv('datasets/movie-director.csv')\n",
    "\n",
    "# Merging dataframes; how = 'left' := use only keys from left frame.\n",
    "df = pd.merge(movies_base, movies_director, on='title', how='left')\n",
    "\n",
    "# displaying result\n",
    "df.to_csv('datasets/movies-revenue.csv')\n",
    "df.head()"
   ],
   "metadata": {
    "collapsed": false
   }
  }
 ],
 "metadata": {
  "kernelspec": {
   "display_name": "Python 3",
   "language": "python",
   "name": "python3"
  },
  "language_info": {
   "codemirror_mode": {
    "name": "ipython",
    "version": 2
   },
   "file_extension": ".py",
   "mimetype": "text/x-python",
   "name": "python",
   "nbconvert_exporter": "python",
   "pygments_lexer": "ipython2",
   "version": "2.7.6"
  }
 },
 "nbformat": 4,
 "nbformat_minor": 0
}
