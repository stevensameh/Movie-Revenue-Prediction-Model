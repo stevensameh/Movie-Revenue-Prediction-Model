{
 "cells": [
  {
   "cell_type": "markdown",
   "source": [
    "# Phase 1"
   ],
   "metadata": {
    "collapsed": false
   }
  },
  {
   "cell_type": "markdown",
   "source": [
    "## Preprocessing\n",
    "\n"
   ],
   "metadata": {
    "collapsed": false
   }
  },
  {
   "cell_type": "code",
   "execution_count": 1,
   "metadata": {
    "collapsed": true
   },
   "outputs": [],
   "source": [
    "import pandas as pd\n",
    "\n",
    "from dateutil.parser import parse\n",
    "\n",
    "from tmdbv3api import TMDb\n",
    "from tmdbv3api import Movie\n",
    "import keys  # TMDb API key file"
   ]
  },
  {
   "cell_type": "markdown",
   "source": [
    "##### Reading the train datasets"
   ],
   "metadata": {
    "collapsed": false
   }
  },
  {
   "cell_type": "code",
   "execution_count": 2,
   "outputs": [],
   "source": [
    "# reading csv files\n",
    "movies_base = pd.read_csv('datasets/1/train/movies-revenue.csv')\n",
    "movies_director = pd.read_csv('datasets/1/train/movie-director.csv')"
   ],
   "metadata": {
    "collapsed": false
   }
  },
  {
   "cell_type": "markdown",
   "source": [
    "##### Checking nulls"
   ],
   "metadata": {
    "collapsed": false
   }
  },
  {
   "cell_type": "code",
   "execution_count": 3,
   "outputs": [
    {
     "data": {
      "text/plain": "name             0\nrelease_date     0\ngenre           14\nMPAA_rating     47\nrevenue          0\ndtype: int64"
     },
     "execution_count": 3,
     "metadata": {},
     "output_type": "execute_result"
    }
   ],
   "source": [
    "movies_base.isnull().sum()"
   ],
   "metadata": {
    "collapsed": false
   }
  },
  {
   "cell_type": "markdown",
   "source": [
    "##### Joining directors dataset into the movies (main) dataset"
   ],
   "metadata": {
    "collapsed": false
   }
  },
  {
   "cell_type": "code",
   "execution_count": 4,
   "outputs": [],
   "source": [
    "# Merging dataframes; how = 'left' := use only keys from left frame.\n",
    "df = pd.merge(movies_base, movies_director, on='name', how='left')\n",
    "\n",
    "# displaying result\n",
    "#df.head(n=10)"
   ],
   "metadata": {
    "collapsed": false
   }
  },
  {
   "cell_type": "markdown",
   "source": [
    "##### Filling the null directors"
   ],
   "metadata": {
    "collapsed": false
   }
  },
  {
   "cell_type": "code",
   "execution_count": null,
   "outputs": [],
   "source": [
    "df.isnull().sum()"
   ],
   "metadata": {
    "collapsed": false
   }
  },
  {
   "cell_type": "code",
   "execution_count": null,
   "outputs": [],
   "source": [
    "df.describe().T"
   ],
   "metadata": {
    "collapsed": false
   }
  },
  {
   "cell_type": "code",
   "execution_count": null,
   "outputs": [],
   "source": [
    "df.dtypes"
   ],
   "metadata": {
    "collapsed": false
   }
  },
  {
   "cell_type": "code",
   "execution_count": 5,
   "outputs": [
    {
     "data": {
      "text/plain": "                                   name release_date      genre MPAA_rating  \\\n0                  Recess: School's Out   2001-02-16     Comedy           G   \n1                  D2: The Mighty Ducks   1994-03-25     Comedy          PG   \n2                     Home on the Range   2004-04-02     Comedy          PG   \n3                  Young Black Stallion   2003-12-25  Adventure           G   \n4         What's Love Got to Do With It   1993-06-09      Drama           R   \n5                    Lady and the Tramp   1955-06-22      Drama           G   \n6                          Corky Romano   2001-10-12     Comedy       PG-13   \n7                          The Waterboy   1998-11-06     Comedy       PG-13   \n8   Captain America: The Winter Soldier   2014-04-04     Action       PG-13   \n9  Pirates of the Caribbean: Dead Man’…   2006-07-07  Adventure       PG-13   \n\n           revenue        director  \n0     $54,656,124              NaN  \n1     $94,226,333              NaN  \n2     $67,910,166        Will Finn  \n3      $9,254,344              NaN  \n4     $79,618,610              NaN  \n5  $1,236,035,515   Hamilton Luske  \n6     $35,705,805              NaN  \n7    $288,691,833              NaN  \n8    $268,013,076              NaN  \n9    $544,817,142              NaN  ",
      "text/html": "<div>\n<style scoped>\n    .dataframe tbody tr th:only-of-type {\n        vertical-align: middle;\n    }\n\n    .dataframe tbody tr th {\n        vertical-align: top;\n    }\n\n    .dataframe thead th {\n        text-align: right;\n    }\n</style>\n<table border=\"1\" class=\"dataframe\">\n  <thead>\n    <tr style=\"text-align: right;\">\n      <th></th>\n      <th>name</th>\n      <th>release_date</th>\n      <th>genre</th>\n      <th>MPAA_rating</th>\n      <th>revenue</th>\n      <th>director</th>\n    </tr>\n  </thead>\n  <tbody>\n    <tr>\n      <th>0</th>\n      <td>Recess: School's Out</td>\n      <td>2001-02-16</td>\n      <td>Comedy</td>\n      <td>G</td>\n      <td>$54,656,124</td>\n      <td>NaN</td>\n    </tr>\n    <tr>\n      <th>1</th>\n      <td>D2: The Mighty Ducks</td>\n      <td>1994-03-25</td>\n      <td>Comedy</td>\n      <td>PG</td>\n      <td>$94,226,333</td>\n      <td>NaN</td>\n    </tr>\n    <tr>\n      <th>2</th>\n      <td>Home on the Range</td>\n      <td>2004-04-02</td>\n      <td>Comedy</td>\n      <td>PG</td>\n      <td>$67,910,166</td>\n      <td>Will Finn</td>\n    </tr>\n    <tr>\n      <th>3</th>\n      <td>Young Black Stallion</td>\n      <td>2003-12-25</td>\n      <td>Adventure</td>\n      <td>G</td>\n      <td>$9,254,344</td>\n      <td>NaN</td>\n    </tr>\n    <tr>\n      <th>4</th>\n      <td>What's Love Got to Do With It</td>\n      <td>1993-06-09</td>\n      <td>Drama</td>\n      <td>R</td>\n      <td>$79,618,610</td>\n      <td>NaN</td>\n    </tr>\n    <tr>\n      <th>5</th>\n      <td>Lady and the Tramp</td>\n      <td>1955-06-22</td>\n      <td>Drama</td>\n      <td>G</td>\n      <td>$1,236,035,515</td>\n      <td>Hamilton Luske</td>\n    </tr>\n    <tr>\n      <th>6</th>\n      <td>Corky Romano</td>\n      <td>2001-10-12</td>\n      <td>Comedy</td>\n      <td>PG-13</td>\n      <td>$35,705,805</td>\n      <td>NaN</td>\n    </tr>\n    <tr>\n      <th>7</th>\n      <td>The Waterboy</td>\n      <td>1998-11-06</td>\n      <td>Comedy</td>\n      <td>PG-13</td>\n      <td>$288,691,833</td>\n      <td>NaN</td>\n    </tr>\n    <tr>\n      <th>8</th>\n      <td>Captain America: The Winter Soldier</td>\n      <td>2014-04-04</td>\n      <td>Action</td>\n      <td>PG-13</td>\n      <td>$268,013,076</td>\n      <td>NaN</td>\n    </tr>\n    <tr>\n      <th>9</th>\n      <td>Pirates of the Caribbean: Dead Man’…</td>\n      <td>2006-07-07</td>\n      <td>Adventure</td>\n      <td>PG-13</td>\n      <td>$544,817,142</td>\n      <td>NaN</td>\n    </tr>\n  </tbody>\n</table>\n</div>"
     },
     "execution_count": 5,
     "metadata": {},
     "output_type": "execute_result"
    }
   ],
   "source": [
    "# Formatting the release_date to match the TMDb date format\n",
    "\n",
    "for i, movie in df.iterrows():\n",
    "    # Parse date from a string and return a datetime.datetime\n",
    "    release_date = parse(movie['release_date'])\n",
    "    # Remove the time from it reducing it to just the date\n",
    "    release_date = release_date.date()\n",
    "\n",
    "    # Parser doesn't do well with dates prior to the 80s\n",
    "    # Correcting the dates newer than this year to a century earlier\n",
    "    if release_date.year > 2023:\n",
    "        release_date = release_date.replace(year=release_date.year - 100)\n",
    "\n",
    "    # Editing the value at the original dataframe\n",
    "    df.at[i, 'release_date'] = str(release_date)\n",
    "\n",
    "df.head(n=10)"
   ],
   "metadata": {
    "collapsed": false
   }
  },
  {
   "cell_type": "markdown",
   "source": [
    "##### Initializing TMDb API"
   ],
   "metadata": {
    "collapsed": false
   }
  },
  {
   "cell_type": "code",
   "execution_count": 6,
   "outputs": [],
   "source": [
    "# Using the TMDb to fill out the missing director from the original dataset\n",
    "\n",
    "# https://github.com/AnthonyBloomer/tmdbv3api\n",
    "# https://developers.themoviedb.org/3/getting-started/introduction\n",
    "\n",
    "# Creating a base class instance from the api library\n",
    "tmdb = TMDb()\n",
    "tmdb.api_key = keys.tmdb_key\n",
    "tmdb.language = 'en'\n",
    "tmdb.debug = True\n"
   ],
   "metadata": {
    "collapsed": false
   }
  },
  {
   "cell_type": "markdown",
   "source": [],
   "metadata": {
    "collapsed": false
   }
  },
  {
   "cell_type": "code",
   "execution_count": 10,
   "outputs": [
    {
     "name": "stdout",
     "output_type": "stream",
     "text": [
      "DuckTales: The Movie - Treasure of th…\n",
      "Earth\n",
      "Toy Story 3D Double Feature\n",
      "Goal! The Dream Begins\n",
      "The Chronicles of Narnia: The Lion, t…\n",
      "Freaky Friday\n",
      "Gake no ue no Ponyo\n",
      "Walt and El Grupo\n",
      "Fantasia 2000 (Theatrical Release)\n",
      "Star Wars Ep. VII: The Force Awakens\n",
      "The Secret World of Arietty\n",
      "Red Rock West\n",
      "Tim Burton's The Nightmare Before Chr…\n",
      "Waking Sleeping Beauty\n",
      "Two Much\n",
      "Un indien dans la ville\n",
      "Planes: Fire and Rescue\n",
      "Rocket Man\n",
      "Homeward Bound II: Lost in San Franc…\n",
      "Hannah Montana/Miley Cyrus: Best of B…\n",
      "Fantasia 2000 (IMAX)\n",
      "ESPN's Ultimate X - The Movie\n",
      "Teacher's Pet: The Movie\n",
      "Hauru no ugoku shiro\n",
      "Gedo Senki (Tales from Earthsea)\n",
      "25\n"
     ]
    }
   ],
   "source": [
    "# Creating a Movie instance to search by the movie details\n",
    "movie = Movie()\n",
    "\n",
    "cnt = 0\n",
    "\n",
    "for i, mov in df.iterrows():\n",
    "    if pd.isnull(mov['director']):\n",
    "        print(mov['name'])\n",
    "        cnt += 1\n",
    "        search = movie.search(mov['name'])  # Search by the movie title\n",
    "        for res in search:\n",
    "            try:\n",
    "                #print(res)\n",
    "                # Confirming the search results by the release date\n",
    "                if res['release_date'][:4] == mov['release_date'][:4]:\n",
    "                    # Extracting the director from the movie credits\n",
    "                    for member in movie.credits(res.id)['crew']:\n",
    "                        if member['job'] == 'Director':\n",
    "                            # Editing the value at the original dataframe\n",
    "                            df.at[i, 'director'] = member['name']\n",
    "                            break\n",
    "                    break\n",
    "            except BaseException as error:\n",
    "                print('An exception occurred: {}'.format(error) + \" \" + mov['name'])\n",
    "\n",
    "print(cnt)"
   ],
   "metadata": {
    "collapsed": false
   }
  },
  {
   "cell_type": "code",
   "execution_count": 8,
   "outputs": [
    {
     "data": {
      "text/plain": "name             0\nrelease_date     0\ngenre           14\nMPAA_rating     47\nrevenue          0\ndirector        25\ndtype: int64"
     },
     "execution_count": 8,
     "metadata": {},
     "output_type": "execute_result"
    }
   ],
   "source": [
    "df.isnull().sum()"
   ],
   "metadata": {
    "collapsed": false
   }
  },
  {
   "cell_type": "markdown",
   "source": [],
   "metadata": {
    "collapsed": false
   }
  },
  {
   "cell_type": "code",
   "execution_count": null,
   "outputs": [],
   "source": [
    "df.to_csv('output.csv', index=False)"
   ],
   "metadata": {
    "collapsed": false
   }
  },
  {
   "cell_type": "markdown",
   "source": [],
   "metadata": {
    "collapsed": false
   }
  }
 ],
 "metadata": {
  "kernelspec": {
   "display_name": "Python 3",
   "language": "python",
   "name": "python3"
  },
  "language_info": {
   "codemirror_mode": {
    "name": "ipython",
    "version": 2
   },
   "file_extension": ".py",
   "mimetype": "text/x-python",
   "name": "python",
   "nbconvert_exporter": "python",
   "pygments_lexer": "ipython2",
   "version": "2.7.6"
  }
 },
 "nbformat": 4,
 "nbformat_minor": 0
}
